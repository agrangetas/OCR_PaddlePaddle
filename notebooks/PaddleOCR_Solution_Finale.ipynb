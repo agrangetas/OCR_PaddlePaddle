{
 "cells": [
  {
   "cell_type": "markdown",
   "metadata": {
    "vscode": {
     "languageId": "plaintext"
    }
   },
   "source": [
    "# 🚀 PaddleOCR - Solution Anti-Segfault\n",
    "\n",
    "**Problème résolu :** Segfault lors de `pipeline.predict()` dans Jupyter\n",
    "\n",
    "**Solution :** Configuration spécifique de l'environnement PaddlePaddle\n"
   ]
  },
  {
   "cell_type": "markdown",
   "metadata": {
    "vscode": {
     "languageId": "plaintext"
    }
   },
   "source": [
    "## ⚙️ ÉTAPE 1: Configuration Anti-Segfault (OBLIGATOIRE)\n",
    "\n",
    "**⚠️ IMPORTANT : Exécutez cette cellule AVANT tout import PaddleOCR**\n"
   ]
  },
  {
   "cell_type": "code",
   "execution_count": null,
   "metadata": {},
   "outputs": [],
   "source": [
    "%load_ext autoreload\n",
    "%autoreload 2"
   ]
  },
  {
   "cell_type": "code",
   "execution_count": null,
   "metadata": {},
   "outputs": [],
   "source": [
    "import os\n",
    "import gc\n",
    "import warnings\n",
    "from PIL import Image\n",
    "\n",
    "def configure_anti_segfault():\n",
    "    \"\"\"Configure l'environnement pour éviter les segfaults lors de predict()\"\"\"\n",
    "    print(\"🔧 Configuration anti-segfault pour predict()...\")\n",
    "    \n",
    "    # Désactiver TOUTES les optimisations CPU problématiques\n",
    "    os.environ[\"FLAGS_use_mkldnn\"] = \"false\"\n",
    "    os.environ[\"FLAGS_use_gpu\"] = \"false\"\n",
    "    os.environ[\"CUDA_VISIBLE_DEVICES\"] = \"\"\n",
    "    \n",
    "    # Un seul thread pour éviter les race conditions\n",
    "    os.environ[\"OMP_NUM_THREADS\"] = \"1\"\n",
    "    os.environ[\"MKL_NUM_THREADS\"] = \"1\"\n",
    "    os.environ[\"NUMEXPR_NUM_THREADS\"] = \"1\"\n",
    "    \n",
    "    # Mémoire conservative\n",
    "    os.environ[\"FLAGS_eager_delete_tensor_gb\"] = \"0.0\"\n",
    "    os.environ[\"FLAGS_memory_fraction_of_eager_deletion\"] = \"0.0\"\n",
    "    os.environ[\"FLAGS_fraction_of_gpu_memory_to_use\"] = \"0.1\"\n",
    "    \n",
    "    # Convolutions sécurisées\n",
    "    os.environ[\"FLAGS_conv_workspace_size_limit\"] = \"32\"\n",
    "    os.environ[\"FLAGS_cudnn_exhaustive_search\"] = \"false\"\n",
    "    \n",
    "    # Logs minimaux\n",
    "    os.environ[\"GLOG_minloglevel\"] = \"3\"\n",
    "    \n",
    "    print(\"✅ Configuration terminée\")\n",
    "\n",
    "# EXÉCUTER LA CONFIGURATION\n",
    "configure_anti_segfault()\n"
   ]
  },
  {
   "cell_type": "code",
   "execution_count": null,
   "metadata": {
    "scrolled": true
   },
   "outputs": [],
   "source": [
    "from src import main\n",
    "from src import utils"
   ]
  },
  {
   "cell_type": "code",
   "execution_count": null,
   "metadata": {},
   "outputs": [],
   "source": [
    "folder_path = \"input/\" # DANS LE DOSSIER NOTEBOOK ICI\n",
    "image_name = \"tableau2.png\"\n",
    "results, img = main.main_apply_pipeline(image_name,folder_path)"
   ]
  },
  {
   "cell_type": "code",
   "execution_count": null,
   "metadata": {},
   "outputs": [],
   "source": [
    "import src.utils as u_new\n",
    "#image_name = \"tableau2-1.png\"#\n",
    "#image_name = \"bilan_passif_audit-1_png\"\n",
    "#image_name = \"tableau_compte_resultat_ocr-1.png\"\n",
    "from IPython.display import display, HTML\n",
    "import json\n",
    "json_path = \"output/\"+  image_name.split('/')[-1].replace('.','_')  +\"/safe_input_res.json\"\n",
    "with open(json_path, \"r\", encoding=\"utf-8\") as f:\n",
    "    json_res = json.load(f)\n",
    "    \n",
    "layout_boxes = json_res['table_res_list'][0]['cell_box_list']\n",
    "rec_texts = json_res['table_res_list'][0]['table_ocr_pred']['rec_texts']\n",
    "rec_boxes = json_res['table_res_list'][0]['table_ocr_pred']['rec_boxes']\n",
    "\n",
    "\n",
    "# Charger les données\n",
    "#layout_boxes, rec_boxes, rec_texts = u_new.load_paddleocr_data(json_path)\n",
    "# 1. Extraire la structure (sans nettoyage)\n",
    "table_structure = u_new.extract_table_structure(\n",
    "    layout_boxes, \n",
    "    fill_empty_cells=True,\n",
    "    extend_cells=True\n",
    ")\n",
    "u_new.plot_table_structure(table_structure)\n",
    "\n",
    "# 2. Assigner les textes OCR ET nettoyer (dans le bon ordre)\n",
    "filled_structure = u_new.assign_ocr_to_structure(\n",
    "    table_structure, rec_boxes, rec_texts, \n",
    "    force_assignment=True,\n",
    "    clean_structure=True,  # ✅ Maintenant APRÈS l'assignment\n",
    "    auto_correct_overlaps = True,\n",
    "    smart_spacing = True\n",
    ")\n",
    "\n",
    "u_new.plot_final_result( filled_structure)\n",
    "\n",
    "html_output = u_new.export_to_html(filled_structure, \"Mon Tableau\")\n",
    "display(HTML(html_output))\n",
    "\n",
    "# 6. Sauvegarder le HTML\n",
    "u_new.save_html_to_file(html_output, \"output/\"+  image_name.split('/')[-1].replace('.','_')  +\"/tableau.html\")\n",
    "\n",
    "# 7. Export Markdown\n",
    "markdown_output = u_new.export_to_markdown(filled_structure, \"Mon Tableau\")\n",
    "print(markdown_output)"
   ]
  },
  {
   "cell_type": "code",
   "execution_count": null,
   "metadata": {},
   "outputs": [],
   "source": [
    "# Cellule DEBUG\n",
    "\n",
    "n = 9\n",
    "for el in filled_structure[n:n+1]:\n",
    "    print(el.x1)\n",
    "    print(el.y1)\n",
    "    print(el.x2)\n",
    "    print(el.y2)\n",
    "    print('row start', el.row_start)\n",
    "    print('col start', el.col_start)\n",
    "    print('row span', el.row_span)\n",
    "    print(\"col span\", el.col_span)\n",
    "    print(el.texts)\n",
    "    print(el.final_text)\n",
    "    print(el.is_auto_filled)\n",
    "    print('')"
   ]
  },
  {
   "cell_type": "code",
   "execution_count": null,
   "metadata": {},
   "outputs": [],
   "source": []
  }
 ],
 "metadata": {
  "kernelspec": {
   "display_name": "Python 3 (ipykernel)",
   "language": "python",
   "name": "python3"
  },
  "language_info": {
   "codemirror_mode": {
    "name": "ipython",
    "version": 3
   },
   "file_extension": ".py",
   "mimetype": "text/x-python",
   "name": "python",
   "nbconvert_exporter": "python",
   "pygments_lexer": "ipython3",
   "version": "3.9.23"
  }
 },
 "nbformat": 4,
 "nbformat_minor": 4
}
